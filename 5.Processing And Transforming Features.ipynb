{
 "cells": [
  {
   "cell_type": "markdown",
   "metadata": {},
   "source": [
    "To understand how linear regression works, we've stuck to using features from the training dataset that contained no missing values and were already in a convenient numeric representation.\n",
    "\n",
    "In this project, we'll explore how to transform some of the remaining features so we can use them in our model. Broadly, the process of processing and creating new features is known as **feature engineering**. \n",
    "* Feature engineering is a bit of an art and having knowledge in the specific domain (in this case real estate) can help us create better features.\n",
    "\n",
    "In this project, we'll focus on some domain-independent strategies that work for all problems."
   ]
  },
  {
   "cell_type": "markdown",
   "metadata": {},
   "source": [
    "In the first half of this project, we'll focus only on columns that contain no missing values but still aren't in the proper format to use in a linear regression model. In the latter half of this project, we'll explore some ways to deal with missing values.\n",
    "\n",
    "Amongst the columns that don't contain missing values, some of the common issues include:\n",
    "\n",
    "* the column is not numerical (e.g. a zoning code represented using text)\n",
    "* the column is numerical but not ordinal (e.g. zip code values)\n",
    "* the column is numerical but isn't representative of the type of relationship with the target column (e.g. year values)"
   ]
  },
  {
   "cell_type": "code",
   "execution_count": 76,
   "metadata": {},
   "outputs": [],
   "source": [
    "import pandas as pd\n",
    "import numpy as np\n",
    "\n",
    "data = pd.read_csv('AmesHousing.txt', delimiter=\"\\t\")\n",
    "train = data[0:1460]\n",
    "test = data[1460:]"
   ]
  },
  {
   "cell_type": "code",
   "execution_count": 46,
   "metadata": {},
   "outputs": [],
   "source": [
    "# Select just the columns from the train data frame that contain no missing values.\n",
    "train_null_counts = train.isnull().sum()\n",
    "\n",
    "cols_no_mv = train_null_counts[(train_null_counts == 0)].index\n",
    "df_no_mv = train[cols_no_mv]"
   ]
  },
  {
   "cell_type": "markdown",
   "metadata": {},
   "source": [
    "Some of the columns in the data frame **df_no_mv** contain string values. If these columns contain only a limited set of uniuqe values, they're known as **categorical features**. As the name suggests, a categorical feature groups a specific training example into a specific category. "
   ]
  },
  {
   "cell_type": "code",
   "execution_count": 47,
   "metadata": {},
   "outputs": [
    {
     "name": "stdout",
     "output_type": "stream",
     "text": [
      "AllPub    1457\n",
      "NoSewr       2\n",
      "NoSeWa       1\n",
      "Name: Utilities, dtype: int64\n",
      "\n",
      "Pave    1455\n",
      "Grvl       5\n",
      "Name: Street, dtype: int64\n",
      "\n",
      "1Story    743\n",
      "2Story    440\n",
      "1.5Fin    160\n",
      "SLvl       60\n",
      "SFoyer     35\n",
      "2.5Unf     11\n",
      "1.5Unf      8\n",
      "2.5Fin      3\n",
      "Name: House Style, dtype: int64\n"
     ]
    }
   ],
   "source": [
    "# Here are some examples from the dataset:\n",
    "\n",
    "print(train['Utilities'].value_counts())\n",
    "print()\n",
    "print(train['Street'].value_counts())\n",
    "print()\n",
    "print(train['House Style'].value_counts())"
   ]
  },
  {
   "cell_type": "markdown",
   "metadata": {},
   "source": [
    "To use these features in our model, we need to transform them into numerical representations. Thankfully, pandas makes this easy because the library has a special [categorical data type](https://pandas.pydata.org/pandas-docs/stable/user_guide/categorical.html). We can convert any column that contains no missing values (or an error will be thrown) to the categorical data type using the `pandas.Series.astype()` method:\n",
    "\n",
    "`train['Utilities'] = train['Utilities'].astype('category')`"
   ]
  },
  {
   "cell_type": "markdown",
   "metadata": {},
   "source": [
    "When a column is converted to the categorical data type, pandas assigns a code to each unique value in the column. Unless we access these values directly, most of the pandas manipulation operations that work for string columns will work for categorical ones as well.\n",
    "\n",
    "We need to use the `.cat` accessor followed by the `.codes` property to actually access the underlying numerical representation of a column:\n",
    "\n",
    "`train['Utilities'].cat.codes`"
   ]
  },
  {
   "cell_type": "code",
   "execution_count": 48,
   "metadata": {},
   "outputs": [
    {
     "data": {
      "text/plain": [
       "Index(['MS Zoning', 'Street', 'Lot Shape', 'Land Contour', 'Utilities',\n",
       "       'Lot Config', 'Land Slope', 'Neighborhood', 'Condition 1',\n",
       "       'Condition 2', 'Bldg Type', 'House Style', 'Roof Style', 'Roof Matl',\n",
       "       'Exterior 1st', 'Exterior 2nd', 'Exter Qual', 'Exter Cond',\n",
       "       'Foundation', 'Heating', 'Heating QC', 'Central Air', 'Electrical',\n",
       "       'Kitchen Qual', 'Functional', 'Paved Drive', 'Sale Type',\n",
       "       'Sale Condition'],\n",
       "      dtype='object')"
      ]
     },
     "execution_count": 48,
     "metadata": {},
     "output_type": "execute_result"
    }
   ],
   "source": [
    "text_cols = df_no_mv.select_dtypes(include = [\"object\"]).columns\n",
    "text_cols"
   ]
  },
  {
   "cell_type": "code",
   "execution_count": 49,
   "metadata": {},
   "outputs": [
    {
     "name": "stderr",
     "output_type": "stream",
     "text": [
      "C:\\ProgramData\\Anaconda3\\lib\\site-packages\\ipykernel_launcher.py:2: SettingWithCopyWarning: \n",
      "A value is trying to be set on a copy of a slice from a DataFrame.\n",
      "Try using .loc[row_indexer,col_indexer] = value instead\n",
      "\n",
      "See the caveats in the documentation: http://pandas.pydata.org/pandas-docs/stable/indexing.html#indexing-view-versus-copy\n",
      "  \n"
     ]
    }
   ],
   "source": [
    "for col in text_cols:\n",
    "    train[col] = train[col].astype(\"category\")"
   ]
  },
  {
   "cell_type": "code",
   "execution_count": 50,
   "metadata": {},
   "outputs": [
    {
     "data": {
      "text/plain": [
       "AllPub    1457\n",
       "NoSewr       2\n",
       "NoSeWa       1\n",
       "Name: Utilities, dtype: int64"
      ]
     },
     "execution_count": 50,
     "metadata": {},
     "output_type": "execute_result"
    }
   ],
   "source": [
    "train[\"Utilities\"].value_counts()"
   ]
  },
  {
   "cell_type": "code",
   "execution_count": 51,
   "metadata": {},
   "outputs": [
    {
     "data": {
      "text/plain": [
       "0    1457\n",
       "2       2\n",
       "1       1\n",
       "dtype: int64"
      ]
     },
     "execution_count": 51,
     "metadata": {},
     "output_type": "execute_result"
    }
   ],
   "source": [
    "train[\"Utilities\"].cat.codes.value_counts()"
   ]
  },
  {
   "cell_type": "markdown",
   "metadata": {},
   "source": [
    "When we convert a column to the categorical data type, pandas assigns a number from `0` to `n-1` (where `n` is the number of unique values in a column) for each value. The drawback with this approach is that one of the assumptions of linear regression is violated here. \n",
    "* Linear regression operates under the assumption that the features are linearly correlated with the target column. For a categorical feature, however, there's no actual numerical meaning to the categorical codes that pandas assigned for that column. \n",
    "* An increase in the Utilities column from `1` to `2` has no correlation value with the target column, and the categorical codes are instead used for uniqueness and exclusivity (the category associated with `0` is different than the one associated with `1`)."
   ]
  },
  {
   "attachments": {
    "image.png": {
     "image/png": "[encoded data removed]"
    }
   },
   "cell_type": "markdown",
   "metadata": {},
   "source": [
    "The common solution is to use a technique called [dummy coding](https://en.wikipedia.org/wiki/Dummy_variable_%28statistics%29). Instead of having a single column with `n` integer codes, we have `n` binary columns. Here's what that would look like for the `Utilities` column:\n",
    "\n",
    "![image.png](attachment:image.png)"
   ]
  },
  {
   "cell_type": "markdown",
   "metadata": {},
   "source": [
    "Because the original values for the first 4 rows were `AllPub`, in the new scheme, they contain the binary value for `true` `(1)` in the `Utilities_AllPub` column and `0` for the other 2 columns.\n",
    "\n",
    "Pandas thankfully has a convenience function to help us apply this transformation for all of the text columns called `pandas.get_dummies()`."
   ]
  },
  {
   "cell_type": "code",
   "execution_count": 52,
   "metadata": {},
   "outputs": [],
   "source": [
    "# Convert all of the columns in text_cols from the train data frame into dummy columns.\n",
    "\n",
    "for col in text_cols:\n",
    "    dummy = pd.get_dummies(train[col])\n",
    "    train = pd.concat([train, dummy], axis = 1)\n",
    "    del train[col]"
   ]
  },
  {
   "cell_type": "markdown",
   "metadata": {},
   "source": [
    "In the last few cells, we focused on categorical values that were represented as text columns. Some of the numerical columns in the data set are also categorical and only have a limited set of unique values. We won't explicitly explore those columns in this project, but the feature transformation process is the same if the numbers used in those categories have no numerical meaning."
   ]
  },
  {
   "cell_type": "markdown",
   "metadata": {},
   "source": [
    "Let's now look at numerical features that aren't categorical, but whose numerical representation needs to be improved. We'll focus on the `Year Remod/Add` and `Year Built` columns:"
   ]
  },
  {
   "cell_type": "code",
   "execution_count": 53,
   "metadata": {},
   "outputs": [
    {
     "name": "stdout",
     "output_type": "stream",
     "text": [
      "   Year Remod/Add  Year Built\n",
      "0            1960        1960\n",
      "1            1961        1961\n",
      "2            1958        1958\n",
      "3            1968        1968\n",
      "4            1998        1997\n"
     ]
    }
   ],
   "source": [
    "print(train[['Year Remod/Add', 'Year Built']].head())"
   ]
  },
  {
   "cell_type": "markdown",
   "metadata": {},
   "source": [
    "The two main issues with these features are:\n",
    "\n",
    "* `Year` values aren't representative of how old a house is\n",
    "* The Year `Remod/Add` column doesn't actually provide useful information for a linear regression model"
   ]
  },
  {
   "cell_type": "markdown",
   "metadata": {},
   "source": [
    "The challenge with year values like 1960 and 1961 is that they don't do a good job of capturing how old a house is. For example, a house that was built in 1960 but sold in 1980 was sold in half the time as one built in 1960 and sold in 2000. Instead of the years certain events happened, we want the difference between those years. We should create a new column that's the difference between both of these columns."
   ]
  },
  {
   "cell_type": "markdown",
   "metadata": {},
   "source": [
    "For this particular piece of information (years until remodeled), this is a sensible approach. Domain knowledge can help us understand how to best transform features to represent information well for a linear model. If we're ever confused about a feature or how it should be represented, reading scientific papers or posts by researchers in the specific domain is critical. \n",
    "* Many winners of [Kaggle data science competitions](https://www.import.io/post/how-to-win-a-kaggle-competition/), for example, claim that their focus on data preparation and feature engineering combined with common machine learning models helped them win."
   ]
  },
  {
   "cell_type": "code",
   "execution_count": 54,
   "metadata": {},
   "outputs": [],
   "source": [
    "train[\"years_until_remod\"] = train[\"Year Remod/Add\"] - train[\"Year Built\"]"
   ]
  },
  {
   "cell_type": "markdown",
   "metadata": {},
   "source": [
    "Now, we'll focus on handling columns with missing values. When values are missing in a column, there are two main approaches we can take:\n",
    "\n",
    "* Remove rows containing missing values for specific columns\n",
    " * `Pro`: Rows containing missing values are removed, leaving only clean data for modeling\n",
    " * `Con`: Entire observations from the training set are removed, which can reduce overall prediction accuracy"
   ]
  },
  {
   "cell_type": "markdown",
   "metadata": {},
   "source": [
    "* Impute (or replace) missing values using a descriptive statistic from the column\n",
    " * `Pro`: Missing values are replaced with potentially similar estimates, preserving the rest of the observation in the model.\n",
    " * `Con`: Depending on the approach, we may be adding noisy data for the model to learn"
   ]
  },
  {
   "cell_type": "markdown",
   "metadata": {},
   "source": [
    "Given that we only have 1460 training examples (with ~80 potentially useful features), we don't want to remove any of these rows from the dataset. Let's instead focus on **imputation** techniques."
   ]
  },
  {
   "cell_type": "markdown",
   "metadata": {},
   "source": [
    "We'll focus on columns that contain at least 1 missing value but less than 365 missing values (or (365/1460) 25% of the number of rows in the training set). \n",
    "* There's no strict threshold, and many people instead use a 50% cutoff (if half the values in a column are missing, it's automatically dropped). Having some domain knowledge can help with determining an acceptable cutoff value."
   ]
  },
  {
   "cell_type": "code",
   "execution_count": 72,
   "metadata": {},
   "outputs": [
    {
     "data": {
      "text/plain": [
       "Lot Frontage      249\n",
       "Mas Vnr Type       11\n",
       "Mas Vnr Area       11\n",
       "Bsmt Qual          40\n",
       "Bsmt Cond          40\n",
       "Bsmt Exposure      41\n",
       "BsmtFin Type 1     40\n",
       "BsmtFin SF 1        1\n",
       "BsmtFin Type 2     41\n",
       "BsmtFin SF 2        1\n",
       "Bsmt Unf SF         1\n",
       "Total Bsmt SF       1\n",
       "Bsmt Full Bath      1\n",
       "Bsmt Half Bath      1\n",
       "Garage Type        74\n",
       "Garage Yr Blt      75\n",
       "Garage Finish      75\n",
       "Garage Qual        75\n",
       "Garage Cond        75\n",
       "dtype: int64"
      ]
     },
     "execution_count": 72,
     "metadata": {},
     "output_type": "execute_result"
    }
   ],
   "source": [
    "# Select only the columns from train that contain more than 0 missing values but less than 584 missing values\n",
    "\n",
    "cols = train_null_counts[(train_null_counts > 0) & (train_null_counts < 584)].index\n",
    "\n",
    "df_missing_values = train[cols]\n",
    "df_missing_values.isnull().sum()"
   ]
  },
  {
   "cell_type": "code",
   "execution_count": 73,
   "metadata": {},
   "outputs": [
    {
     "data": {
      "text/plain": [
       "Lot Frontage      float64\n",
       "Mas Vnr Type       object\n",
       "Mas Vnr Area      float64\n",
       "Bsmt Qual          object\n",
       "Bsmt Cond          object\n",
       "Bsmt Exposure      object\n",
       "BsmtFin Type 1     object\n",
       "BsmtFin SF 1      float64\n",
       "BsmtFin Type 2     object\n",
       "BsmtFin SF 2      float64\n",
       "Bsmt Unf SF       float64\n",
       "Total Bsmt SF     float64\n",
       "Bsmt Full Bath    float64\n",
       "Bsmt Half Bath    float64\n",
       "Garage Type        object\n",
       "Garage Yr Blt     float64\n",
       "Garage Finish      object\n",
       "Garage Qual        object\n",
       "Garage Cond        object\n",
       "dtype: object"
      ]
     },
     "execution_count": 73,
     "metadata": {},
     "output_type": "execute_result"
    }
   ],
   "source": [
    "df_missing_values.dtypes"
   ]
  },
  {
   "cell_type": "markdown",
   "metadata": {},
   "source": [
    "It looks like about half of the columns in `df_missing_values` are **string columns** (object data type), while about half are **float64 columns**. \n",
    "* For numerical columns with missing values, a common strategy is to compute the mean, median, or mode of each column and replace all missing values in that column with that value.\n",
    "\n",
    "Because imputation is a common task, pandas contains a `pandas.DataFrame.fillna()` method that we can use for this. If we pass in a value, all of the missing values (`NaN`) in the data frame are replaced by that value\n",
    "\n",
    "`# Only select float columns.\n",
    "missing_floats = df_missing_vals.select_dtypes(include=['float'])`\n",
    "\n",
    "`# Returns a data frame with missing values replaced with 0.\n",
    "fill_with_zero = missing_floats.fillna(0)`\n",
    "\n",
    "We can also pass in a column-wise summarization function and fill in missing values that way:\n",
    "\n",
    "`# Returns a data frame with missing values replaced with mean of that column.\n",
    "fill_with_mean = missing_floats.fillna(missing_floats.mean())`"
   ]
  },
  {
   "cell_type": "code",
   "execution_count": 78,
   "metadata": {},
   "outputs": [],
   "source": [
    "# Impute the missing values in float col\n",
    "\n",
    "float_cols = df_missing_values.select_dtypes(include = [\"float\"])\n",
    "float_cols = float_cols.fillna(np.mean)"
   ]
  },
  {
   "cell_type": "code",
   "execution_count": 79,
   "metadata": {},
   "outputs": [
    {
     "data": {
      "text/plain": [
       "Lot Frontage      0\n",
       "Mas Vnr Area      0\n",
       "BsmtFin SF 1      0\n",
       "BsmtFin SF 2      0\n",
       "Bsmt Unf SF       0\n",
       "Total Bsmt SF     0\n",
       "Bsmt Full Bath    0\n",
       "Bsmt Half Bath    0\n",
       "Garage Yr Blt     0\n",
       "dtype: int64"
      ]
     },
     "execution_count": 79,
     "metadata": {},
     "output_type": "execute_result"
    }
   ],
   "source": [
    "float_cols.isnull().sum()"
   ]
  },
  {
   "cell_type": "markdown",
   "metadata": {},
   "source": [
    "In this project, we explored a few different techniques for transforming features into appropriate representations for a linear regression model."
   ]
  },
  {
   "cell_type": "code",
   "execution_count": null,
   "metadata": {},
   "outputs": [],
   "source": []
  }
 ],
 "metadata": {
  "kernelspec": {
   "display_name": "Python 3",
   "language": "python",
   "name": "python3"
  },
  "language_info": {
   "codemirror_mode": {
    "name": "ipython",
    "version": 3
   },
   "file_extension": ".py",
   "mimetype": "text/x-python",
   "name": "python",
   "nbconvert_exporter": "python",
   "pygments_lexer": "ipython3",
   "version": "3.7.6"
  }
 },
 "nbformat": 4,
 "nbformat_minor": 2
}
